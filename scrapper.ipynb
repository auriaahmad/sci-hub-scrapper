{
 "cells": [
  {
   "cell_type": "code",
   "execution_count": null,
   "metadata": {},
   "outputs": [],
   "source": [
    "import time\n",
    "import pandas as pd\n",
    "from selenium import webdriver\n",
    "from selenium.webdriver.common.by import By\n",
    "from selenium.webdriver.chrome.service import Service\n",
    "from selenium.webdriver.chrome.options import Options\n",
    "from selenium.common.exceptions import NoSuchElementException, TimeoutException\n",
    "from selenium.webdriver.support.ui import WebDriverWait\n",
    "from selenium.webdriver.support import expected_conditions as EC\n",
    "import os\n",
    "import re\n",
    "import requests\n",
    "# Define the download directory\n",
    "download_directory = r\"D:\\MyGitHub\\scrapper\\downloads\"\n",
    "excel_file = r\"D:\\MyGitHub\\scrapper\\doi_updated.xlsx\"\n",
    "# renamefiles_directory = r\"D:\\MyGitHub\\scrapper\\downloads\"\n",
    "# excel_data = pd.DataFrame(columns=['doi', 'article name', 'checked'])\n",
    "\n",
    "# Check if the Excel file exists, if not, create an empty DataFrame\n",
    "if not os.path.exists(excel_file):\n",
    "    df = pd.DataFrame(columns=['doi', 'article name', 'checked'])\n",
    "else:\n",
    "    # Load existing DataFrame from the Excel file\n",
    "    df = pd.read_excel(excel_file)\n",
    "\n",
    "# Create an empty DataFrame to store the data\n",
    "data = []"
   ]
  },
  {
   "cell_type": "code",
   "execution_count": null,
   "metadata": {},
   "outputs": [],
   "source": [
    "# Set up the Chrome WebDriver\n",
    "chrome_options = Options()\n",
    "# chrome_options.add_argument(\"--headless\")  # Run headless Chrome\n",
    "chrome_options.add_argument(\"--no-sandbox\")\n",
    "chrome_options.add_argument(\"--disable-dev-shm-usage\")\n",
    "chrome_options.add_experimental_option('prefs', {\n",
    "    # \"download.default_directory\": os.getcwd(),  # Change default directory for downloads\n",
    "    \"download.default_directory\": download_directory,  # Change default directory for downloads\n",
    "    \"download.prompt_for_download\": False,  # Disable download prompt\n",
    "    \"download.directory_upgrade\": True,\n",
    "    \"safebrowsing.enabled\": True\n",
    "})"
   ]
  },
  {
   "cell_type": "code",
   "execution_count": null,
   "metadata": {},
   "outputs": [],
   "source": [
    "chrome_service = Service(r'C:\\Program Files (x86)\\ChromeDriver\\chromedriver.exe')  # Update path to your chromedriver\n",
    "driver = webdriver.Chrome(service=chrome_service, options=chrome_options)"
   ]
  },
  {
   "cell_type": "code",
   "execution_count": null,
   "metadata": {},
   "outputs": [],
   "source": [
    "# Load the DOIs from Excel\n",
    "doi_df = pd.read_excel('doi.xlsx')"
   ]
  },
  {
   "cell_type": "code",
   "execution_count": null,
   "metadata": {},
   "outputs": [],
   "source": [
    "# Add new columns for name and check\n",
    "doi_df['name'] = ''\n",
    "doi_df['check'] = ''\n"
   ]
  },
  {
   "cell_type": "code",
   "execution_count": null,
   "metadata": {},
   "outputs": [],
   "source": [
    "print(doi_df)"
   ]
  },
  {
   "cell_type": "code",
   "execution_count": null,
   "metadata": {},
   "outputs": [],
   "source": [
    "def wait_for_page_load(driver, timeout=60):\n",
    "    \"\"\"Wait for the page to be fully loaded.\"\"\"\n",
    "    try:\n",
    "        WebDriverWait(driver, timeout).until(\n",
    "            lambda d: d.execute_script('return document.readyState') == 'complete'\n",
    "        )\n",
    "    except TimeoutException:\n",
    "        print(\"Page load timed out.\")"
   ]
  },
  {
   "cell_type": "code",
   "execution_count": null,
   "metadata": {},
   "outputs": [],
   "source": [
    "def sanitize_filename(filename):\n",
    "    \"\"\"Sanitize the filename by removing invalid characters.\"\"\"\n",
    "    return re.sub(r'[\\\\/*?:\"<>|]', \"\", filename)"
   ]
  },
  {
   "cell_type": "code",
   "execution_count": null,
   "metadata": {},
   "outputs": [],
   "source": [
    "# Function to check internet connectivity\n",
    "def check_internet(url='http://www.google.com/', timeout=5):\n",
    "    try:\n",
    "        _ = requests.get(url, timeout=timeout)\n",
    "        return True\n",
    "    except requests.ConnectionError:\n",
    "        return False"
   ]
  },
  {
   "cell_type": "code",
   "execution_count": null,
   "metadata": {},
   "outputs": [],
   "source": [
    "# Function to wait for download to complete and file to be unlocked\n",
    "def wait_for_download(directory, timeout=60):\n",
    "    start_time = time.time()\n",
    "    while True:\n",
    "        files = os.listdir(directory)\n",
    "        if files:\n",
    "            downloaded_file = max([os.path.join(directory, f) for f in files], key=os.path.getctime)\n",
    "            if not downloaded_file.endswith(\".crdownload\"):  # Adjust this for the specific browser's download extension\n",
    "                try:\n",
    "                    # Attempt to open the file in write mode\n",
    "                    with open(downloaded_file, 'r+'):\n",
    "                        return downloaded_file\n",
    "                except IOError:\n",
    "                    pass\n",
    "        elapsed_time = time.time() - start_time\n",
    "        if elapsed_time > timeout:\n",
    "            raise TimeoutException(\"Download timed out\")\n",
    "        time.sleep(1)  # Check every second\n",
    "\n",
    "# comment above code and uncomment below, if you dont want a time out. \n",
    "\n",
    "# # Function to wait for download to complete and file to be unlocked\n",
    "# def wait_for_download(directory):\n",
    "\n",
    "#     while True:\n",
    "#         files = os.listdir(directory)\n",
    "#         if files:\n",
    "#             downloaded_file = max([os.path.join(directory, f) for f in files], key=os.path.getctime)\n",
    "#             if not downloaded_file.endswith(\".crdownload\"):  # Adjust this for the specific browser's download extension\n",
    "#                 try:\n",
    "#                     # Attempt to open the file in write mode\n",
    "#                     with open(downloaded_file, 'r+'):\n",
    "#                         return downloaded_file\n",
    "#                 except IOError:\n",
    "#                     pass\n",
    "#         # elapsed_time = time.time() - start_time\n",
    "#         # if elapsed_time > timeout:\n",
    "#         #     raise TimeoutException(\"Download timed out\")\n",
    "#         time.sleep(1)  # Check every second"
   ]
  },
  {
   "cell_type": "code",
   "execution_count": null,
   "metadata": {},
   "outputs": [],
   "source": [
    "for index, row in doi_df.iterrows():\n",
    "    # Check for internet connection\n",
    "    while not check_internet():\n",
    "        print(\"No internet connection. Retrying...\")\n",
    "        time.sleep(5)  # Wait for 5 seconds before retrying\n",
    "    doi = row['doi']\n",
    "    #  # Skip the iteration if doi is 'doiNotPresent'\n",
    "    # if doi == 'doiNotPresent' or doi == \"\":\n",
    "    #     print(\"skipped\")\n",
    "    #     continue\n",
    "    url = f'https://sci-hub.se/{doi}'\n",
    "    print(f\"Opening URL: {url}\")\n",
    "    # Open the URL\n",
    "    driver.get(url)\n",
    "    wait_for_page_load(driver)\n",
    "    try:\n",
    " # Extract the title of the paper from the <i> tag within the #citation div\n",
    "        citation_div = driver.find_element(By.ID, \"citation\")\n",
    "        title_element = citation_div.find_element(By.TAG_NAME, \"i\")\n",
    "        title = title_element.text.strip()\n",
    "        sanitized_title = sanitize_filename(doi)\n",
    "        print(f\"senitized doi: {sanitized_title}\")\n",
    "\n",
    "# Find the save button\n",
    "        save_button = WebDriverWait(driver, 10).until(\n",
    "            EC.element_to_be_clickable((By.XPATH, \"//button[contains(text(), '↓ save')]\"))\n",
    "        )\n",
    "        save_button.click()\n",
    "\n",
    "        # Wait for the file to download\n",
    "        downloaded_file = wait_for_download(download_directory)\n",
    "\n",
    "        # print(f\"Clicked save button for DOI: {doi}\")\n",
    "        \n",
    "        # Wait for the file to download\n",
    "        # time.sleep(10)  # Adjust time as needed\n",
    "\n",
    "         # Find the downloaded file\n",
    "        files = os.listdir(download_directory)\n",
    "        downloaded_file = max([os.path.join(download_directory, f) for f in files], key=os.path.getctime)\n",
    "\n",
    "        # Construct the new file path\n",
    "        new_file_path = os.path.join(download_directory, f\"{sanitized_title}.pdf\")\n",
    "        \n",
    "        # Rename the file\n",
    "        os.rename(downloaded_file, new_file_path)\n",
    "        print(f\"Downloaded file for DOI: {doi} as {new_file_path}\")\n",
    "        data.append({'doi': doi, 'article name': title, 'checked': 'found'})\n",
    "\n",
    "\n",
    "    except (NoSuchElementException, TimeoutException) as e:\n",
    "        # Handle the case where the save button is not found\n",
    "        print(f\"Save button not found for DOI: {doi}. Error: {str(e)}\")\n",
    "        data.append({'doi': doi, 'article name': 'not found', 'checked': 'not found'})\n",
    "        continue\n",
    "\n",
    "    # Convert the new data to a DataFrame\n",
    "    new_data_df = pd.DataFrame(data)\n",
    "\n",
    "    # Concatenate the new data DataFrame with the existing DataFrame\n",
    "    df = pd.concat([df, new_data_df], ignore_index=True)\n",
    "\n",
    "    # Save the DataFrame to an Excel file\n",
    "    df.to_excel(excel_file, index=False)\n",
    "\n",
    "    # Clear the data list for the next iteration\n",
    "    data.clear()\n",
    "\n",
    "# Close the browser\n",
    "driver.quit()"
   ]
  },
  {
   "cell_type": "code",
   "execution_count": null,
   "metadata": {},
   "outputs": [],
   "source": []
  }
 ],
 "metadata": {
  "kernelspec": {
   "display_name": "scrapper",
   "language": "python",
   "name": "python3"
  },
  "language_info": {
   "codemirror_mode": {
    "name": "ipython",
    "version": 3
   },
   "file_extension": ".py",
   "mimetype": "text/x-python",
   "name": "python",
   "nbconvert_exporter": "python",
   "pygments_lexer": "ipython3",
   "version": "3.8.19"
  }
 },
 "nbformat": 4,
 "nbformat_minor": 2
}
